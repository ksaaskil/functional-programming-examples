{
 "cells": [
  {
   "cell_type": "markdown",
   "metadata": {},
   "source": [
    "## Functional data structures\n",
    "Functional data structures are by definition immutable. As an introduction, consider singly linked list.\n"
   ]
  },
  {
   "cell_type": "code",
   "execution_count": null,
   "metadata": {},
   "outputs": [],
   "source": [
    "sealed trait List[+A] // Variance annotation: see below\n",
    "case object Nil extends List[Nothing] // Constructor for empty list. `Nothing` is a subtype of all types.\n",
    "case class Cons[+A](head: A, tail: List[A]) extends List[A] // Constructor for non-empty list\n",
    "\n",
    "object List { // Companion object containing useful tools\n",
    "    def sum(ints: List[Int]): Int = ints match { // Pattern matching\n",
    "        case Nil => 0\n",
    "        case Cons(x, xs) => x + sum(xs) // Capture `x` and `xs`, call `sum` recursively\n",
    "    }\n",
    "    \n",
    "    def product(ds: List[Double]): Double = ds match {\n",
    "        case Nil => 1.0\n",
    "        case Cons(0.0, _) => 0.0\n",
    "        case Cons(x, xs) => x * product(xs)\n",
    "    }\n",
    "    \n",
    "    def apply[A](as: A*): List[A] = { // Variadic function syntax (variable number of arguments)\n",
    "        if (as.isEmpty) Nil\n",
    "        else Cons(as.head, apply(as.tail: _*))\n",
    "    }\n",
    "}"
   ]
  },
  {
   "cell_type": "markdown",
   "metadata": {},
   "source": [
    "The syntax \n",
    "```scala\n",
    "List[+A]\n",
    "```\n",
    "means above that `A` is a covariant (\"positive\") parameter of `List`. For example, `List[Dog]` is now a subtype of `List[Animal]` if `Dog` is a subtype of `Animal`. More generally, the variance annotation means if `X` is a subtype of `Y`, then `List[X]` is a subtype of `List[Y]`."
   ]
  },
  {
   "cell_type": "markdown",
   "metadata": {},
   "source": [
    "### Exercise 3.1\n",
    "Pattern matching example"
   ]
  },
  {
   "cell_type": "code",
   "execution_count": null,
   "metadata": {},
   "outputs": [],
   "source": [
    "val x = List(1, 2, 3, 4, 5) match {\n",
    "    case Cons(x, Cons(2, Cons(4, _))) => x // Does not match\n",
    "    case Nil => 42\n",
    "    case Cons(x, Cons(y, Cons(3, Cons(4, _)))) => x + y // Matches, returns 1+2\n",
    "    case Cons(h, t) => h + List.sum(t) // Also matches but not the first\n",
    "    case _ => 101\n",
    "}\n",
    "\n",
    "assert(x == 3)"
   ]
  },
  {
   "cell_type": "markdown",
   "metadata": {},
   "source": [
    "### Exercise 3.2\n",
    "Data sharing in functional data structures: Implement function `tail` for removing the first element of a `List`. Note that the input `List` is _not_ modified."
   ]
  },
  {
   "cell_type": "code",
   "execution_count": null,
   "metadata": {},
   "outputs": [],
   "source": [
    "def tail[A](as: List[A]): List[A] = {\n",
    "    as match {\n",
    "        case Nil => Nil // There are different choices for empty List that one could do here.\n",
    "        case Cons(h, t) => t // Return the tail. `t` is immutable so no copying is needed.\n",
    "    }\n",
    "}\n",
    "\n",
    "tail(Nil) // Nil\n",
    "tail(List(1)) // Nil\n",
    "tail(List(1, 2)) // Cons(2, Nil)"
   ]
  },
  {
   "cell_type": "markdown",
   "metadata": {},
   "source": [
    "### Exercise 3.3\n",
    "Implement `setHead` for replacing the first element of a List."
   ]
  },
  {
   "cell_type": "code",
   "execution_count": null,
   "metadata": {},
   "outputs": [],
   "source": [
    "def setHead[A](a: A, as: List[A]): List[A] = {\n",
    "    as match {\n",
    "        case Nil => Cons(a, Nil)\n",
    "        case Cons(h, t) => Cons(a, t) // Data sharing: no need to copy `t` as it is immutable.\n",
    "    }\n",
    "}\n",
    "\n",
    "setHead(3, Nil) // Cons(3, Nil)\n",
    "setHead(3, List(1, 2)) // Cons(3, Cons(2, Nil))"
   ]
  },
  {
   "cell_type": "markdown",
   "metadata": {},
   "source": [
    "### Exercise 3.4\n",
    "Define function `drop` that removes the first `n` elements from a list."
   ]
  },
  {
   "cell_type": "code",
   "execution_count": null,
   "metadata": {},
   "outputs": [],
   "source": [
    "@annotation.tailrec\n",
    "def drop[A](l: List[A], n: Int): List[A] = {\n",
    "    if (n <= 0) l\n",
    "    else l match {\n",
    "        case Nil => Nil\n",
    "        case Cons(h, t) => drop(t, n-1)\n",
    "    }\n",
    "}\n",
    "\n",
    "val l = List(1, 2, 3, 4)\n",
    "\n",
    "drop(l, 1)\n",
    "drop(l, 2)\n",
    "drop(l, 3)\n",
    "drop(l, 4)\n",
    "drop(l, 5)"
   ]
  },
  {
   "cell_type": "markdown",
   "metadata": {},
   "source": [
    "### Exercise 3.5\n",
    "Implement `dropWhile` that removes elements from the `List` as long as they match a predicate."
   ]
  },
  {
   "cell_type": "code",
   "execution_count": null,
   "metadata": {},
   "outputs": [],
   "source": [
    "@annotation.tailrec\n",
    "def dropWhile[A](l: List[A], f: A => Boolean): List[A] = {\n",
    "  l match {\n",
    "      case Nil => Nil\n",
    "      case Cons(h, t) => if (f(h)) dropWhile(t, f) else l\n",
    "  }  \n",
    "}\n",
    "\n",
    "val l = List(1, 2, 3, 4, 7, 5)\n",
    "dropWhile(l, (x: Int) => x < 5) // Cons(7, Cons(5, _))\n",
    "dropWhile(l, (x: Int) => x < 8) // Nil\n",
    "dropWhile(l, (x: Int) => x < 0) // l"
   ]
  },
  {
   "cell_type": "markdown",
   "metadata": {},
   "source": [
    "It's a bit annoying that the function `f` requires type argument even though it should be obvious from the `List` type – this does not compile:\n",
    "```scala\n",
    "dropWhile(l, x => x < 5)\n",
    "```\n",
    "To fix this, one can give curried definition that improves type inference:"
   ]
  },
  {
   "cell_type": "code",
   "execution_count": null,
   "metadata": {},
   "outputs": [],
   "source": [
    "@annotation.tailrec\n",
    "def dropWhileCurried[A](l: List[A])(f: A => Boolean): List[A] = {\n",
    "    l match {\n",
    "        case Cons(h, t) => if (f(h)) dropWhileCurried(t)(f) else l\n",
    "        case _ => l\n",
    "    }\n",
    "}\n",
    "\n",
    "dropWhileCurried(l)(x => x < 5) // Works!"
   ]
  },
  {
   "cell_type": "markdown",
   "metadata": {},
   "source": [
    "### Exercise 3.6\n",
    "Implement a function `init` that returns a `List` consisting of all but the last element of a `List`. Note that whereas `tail` takes constant time, this takes linear time."
   ]
  },
  {
   "cell_type": "code",
   "execution_count": null,
   "metadata": {},
   "outputs": [],
   "source": [
    "def init[A](l: List[A]): List[A] = {\n",
    "    l match {\n",
    "        case Nil => Nil\n",
    "        case Cons(h, Nil) => Nil\n",
    "        case Cons(h, t) => Cons(h, init(t)) // This essentially copies the whole list.\n",
    "    }\n",
    "}\n",
    "\n",
    "init(List(1, 2, 3, 4)) // Cons(1, Cons(2, Cons(3, Nil))), i.e. List(1, 2, 3)"
   ]
  },
  {
   "cell_type": "markdown",
   "metadata": {},
   "source": [
    "### Generalizing recursion to higher-order functions\n",
    "`sum` and `product` defined in `List` companion object can be defined using a common `foldRight` operator:"
   ]
  },
  {
   "cell_type": "code",
   "execution_count": null,
   "metadata": {},
   "outputs": [],
   "source": [
    "def foldRight[A, B](as: List[A], z: B)(f: (A, B) => B): B = \n",
    "    as match {\n",
    "        case Nil => z\n",
    "        case Cons(h, t) => f(h, foldRight(t, z)(f)) // Push frames onto the call stack all the way until at the end\n",
    "    }\n",
    "\n",
    "def sum2(ns: List[Int]): Int = \n",
    "    foldRight(ns, 0)(_ + _) // Don't worry about the empty list for now\n",
    "\n",
    "def product2(ds: List[Double]): Double = \n",
    "    ds match {\n",
    "        case Nil => throw new Error(\"Empty list\")\n",
    "        case _ => foldRight(ds, 1.0)(_*_)\n",
    "    }\n",
    "    \n",
    "sum2(List(1, 2, 3, 4, 5))\n",
    "product2(List(1, 2, 3, 4, 5))"
   ]
  },
  {
   "cell_type": "markdown",
   "metadata": {},
   "source": [
    "### Exercise 3.9\n",
    "Compute the length of a list using `foldRight`."
   ]
  },
  {
   "cell_type": "code",
   "execution_count": null,
   "metadata": {},
   "outputs": [],
   "source": [
    "def length[A](as: List[A]): Int = {\n",
    "    foldRight(as, 0)((_, b) => b + 1)\n",
    "}\n",
    "\n",
    "assert(length(List(1, 3, 2, 4)) == 4)"
   ]
  },
  {
   "cell_type": "markdown",
   "metadata": {},
   "source": [
    "### Exercise 3.10\n",
    "`foldRight` is not tail-recursive and is not stack-safe. Write `foldLeft` that is tail-recursive."
   ]
  },
  {
   "cell_type": "code",
   "execution_count": null,
   "metadata": {},
   "outputs": [],
   "source": [
    "@annotation.tailrec\n",
    "def foldLeft[A, B](as: List[A], z: B)(f: (B, A) => B): B =\n",
    "    as match {\n",
    "        case Nil => z\n",
    "        case Cons(h, t) => foldLeft(t, f(z, h))(f)\n",
    "    }\n",
    "\n",
    "def sum3(ns: List[Int]): Int = \n",
    "    foldLeft(ns, 0)(_ + _)\n",
    "\n",
    "assert(sum3(List(1, 3, 5, 7)) == 16)"
   ]
  },
  {
   "cell_type": "markdown",
   "metadata": {},
   "source": [
    "### Exercise 3.12\n",
    "Write a function that returns the reverse of a list."
   ]
  },
  {
   "cell_type": "code",
   "execution_count": null,
   "metadata": {},
   "outputs": [],
   "source": [
    "/* First try with append */\n",
    "def append[A](as: List[A], x: A): List[A] = {\n",
    "    as match {\n",
    "        case Nil => Cons(x, Nil)\n",
    "        case Cons(h, t) => Cons(h, append(t, x))\n",
    "    }\n",
    "}\n",
    "\n",
    "def reverse[A](as: List[A]): List[A] = {\n",
    "    as match {\n",
    "        case Nil => Nil\n",
    "        case Cons(h, t) => append(reverse(t), h)\n",
    "    }\n",
    "}\n",
    "\n",
    "val l = List(1, 2, 3, 4, 5)\n",
    "\n",
    "reverse(l) // Works\n",
    "\n",
    "// Second try with `append` and `foldRight`\n",
    "foldRight(l, Nil: List[Int])((a, z) => append(z, a))\n",
    "\n",
    "// Final version with `foldLeft`, place new elements to the beginning when traversing from the left\n",
    "foldLeft(l, Nil: List[Int])((z, a) => Cons(a, z))"
   ]
  },
  {
   "cell_type": "markdown",
   "metadata": {},
   "source": [
    "### Exercise 3.14\n",
    "Implement `append` in terms of either `foldLeft` or `foldRight`."
   ]
  },
  {
   "cell_type": "code",
   "execution_count": null,
   "metadata": {},
   "outputs": [],
   "source": [
    "def append[A](as: List[A], a: A): List[A] = foldRight(as, Cons(a, Nil))((b, z) => Cons(b, z))\n",
    "\n",
    "append(List(1, 2, 3), 4)"
   ]
  },
  {
   "cell_type": "markdown",
   "metadata": {},
   "source": [
    "### Exercise 3.16\n",
    "Write a function that transforms a list of integers by adding `1` to each element."
   ]
  },
  {
   "cell_type": "code",
   "execution_count": null,
   "metadata": {},
   "outputs": [],
   "source": [
    "def addOne(ns: List[Int]): List[Int] = foldRight(ns, Nil: List[Int])((a, z) => Cons(a+1, z))\n",
    "\n",
    "addOne(List(1, 2, 3, 4, 5))"
   ]
  },
  {
   "cell_type": "markdown",
   "metadata": {},
   "source": [
    "### Exercise 3.17\n",
    "Write a function that transforms each value in `List[Double]` to `String`."
   ]
  },
  {
   "cell_type": "code",
   "execution_count": null,
   "metadata": {},
   "outputs": [],
   "source": [
    "def toString(ds: List[Double]): List[String] = foldRight(ds, Nil: List[String])((a, z) => Cons(s\"Value is ${a}\", z))\n",
    "toString(List(1.0, 2.0, 3.0))"
   ]
  },
  {
   "cell_type": "markdown",
   "metadata": {},
   "source": [
    "### Exercise 3.18\n",
    "Write `map` function."
   ]
  },
  {
   "cell_type": "code",
   "execution_count": null,
   "metadata": {},
   "outputs": [],
   "source": [
    "def map[A, B](as: List[A])(f: A => B): List[B] = \n",
    "    foldRight(as, Nil: List[B])((a, z) => Cons(f(a), z))\n",
    "\n",
    "map(List(1.0, 2.0, 3.0))(a => s\"Mapped to ${a}\")"
   ]
  },
  {
   "cell_type": "markdown",
   "metadata": {},
   "source": [
    "### Exercise 3.19\n",
    "Write function `filter`."
   ]
  },
  {
   "cell_type": "code",
   "execution_count": null,
   "metadata": {},
   "outputs": [],
   "source": [
    "def filter[A](as: List[A])(f: A => Boolean) =\n",
    "    foldRight(as, Nil: List[A])((a, z) => if (f(a)) Cons(a, z) else z)\n",
    "\n",
    "assert(filter(List(1, 2, 3, 4))(x => x != 3) == List(1, 2, 4))"
   ]
  },
  {
   "cell_type": "markdown",
   "metadata": {},
   "source": [
    "### Exercise 3.20\n",
    "Write function `flatMap`."
   ]
  },
  {
   "cell_type": "code",
   "execution_count": null,
   "metadata": {},
   "outputs": [],
   "source": [
    "def concatenate[A](as1: List[A], as2: List[A]): List[A] =\n",
    "    foldRight(as1, as2)((a, z) => Cons(a, z))\n",
    "\n",
    "def flatMap[A, B](as: List[A])(f: A => List[B]): List[B] =\n",
    "    foldRight(as, Nil: List[B])((a, z) => concatenate(f(a), z))\n",
    "\n",
    "assert(flatMap(List(1, 2))(a => List(a, a)) == List(1, 1, 2, 2))"
   ]
  },
  {
   "cell_type": "markdown",
   "metadata": {},
   "source": [
    "### Exercise 3.21\n",
    "Use `flatMap` to implement `filter`."
   ]
  },
  {
   "cell_type": "code",
   "execution_count": null,
   "metadata": {},
   "outputs": [],
   "source": [
    "def filter[A](as: List[A])(f: A => Boolean): List[A] = \n",
    "    flatMap(as)(a => if (f(a)) List(a) else Nil)\n",
    "\n",
    "filter(List(1, 2, 3, 4))(x => x != 3)"
   ]
  },
  {
   "cell_type": "markdown",
   "metadata": {},
   "source": [
    "### Exercise 3.23\n",
    "Write function `zipWith`."
   ]
  },
  {
   "cell_type": "code",
   "execution_count": null,
   "metadata": {},
   "outputs": [],
   "source": [
    "def zipWith[A, B, C](a1: List[A], a2: List[B])(f: (A, B) => C): List[C] =\n",
    "    (a1, a2) match {\n",
    "        case (Nil, Nil) => Nil\n",
    "        case (Cons(h1, t1), Cons(h2, t2)) => Cons(f(h1, h2), zipWith(t1, t2)(f)) // Expect same length\n",
    "    }\n",
    "\n",
    "zipWith(List(1, 2, 3), List(4, 5, 6))(_ + _)"
   ]
  },
  {
   "cell_type": "markdown",
   "metadata": {},
   "source": [
    "## Trees\n",
    "As another example of a functional data structure, consider binary tree. Note that in this definition, branches do not contain any values, only leafs do."
   ]
  },
  {
   "cell_type": "code",
   "execution_count": null,
   "metadata": {},
   "outputs": [],
   "source": [
    "sealed trait Tree[+A]\n",
    "case class Leaf[A](value: A) extends Tree[A]\n",
    "case class Branch[A](left: Tree[A], right: Tree[A]) extends Tree[A]"
   ]
  },
  {
   "cell_type": "markdown",
   "metadata": {},
   "source": [
    "### Exercises 3.25-3.28\n",
    "Write functions `size`, `maximum`, `depth`, and `map` for `Tree`."
   ]
  },
  {
   "cell_type": "code",
   "execution_count": null,
   "metadata": {},
   "outputs": [],
   "source": [
    "def size[A](t: Tree[A]): Int = {\n",
    "    t match {\n",
    "        case Leaf(v) => 1\n",
    "        case Branch(left, right) => 1 + size(left) + size(right)\n",
    "    }\n",
    "}\n",
    "\n",
    "val leftTree = new Branch(left = new Branch(left = new Leaf(1), right = new Leaf(5)), right = new Leaf(4))\n",
    "val rightTree = new Branch(left = new Leaf(3), right = new Leaf(2))\n",
    "val tree = new Branch(left = leftTree, right = rightTree)\n",
    "\n",
    "assert(size(tree) == 9)"
   ]
  },
  {
   "cell_type": "code",
   "execution_count": null,
   "metadata": {},
   "outputs": [],
   "source": [
    "def maximum(t: Tree[Int]): Int = \n",
    "    t match {\n",
    "        case Leaf(v) => v\n",
    "        case Branch(left, right) => maximum(left) max maximum(right)\n",
    "    }\n",
    "\n",
    "assert(maximum(tree) == 5)"
   ]
  },
  {
   "cell_type": "code",
   "execution_count": null,
   "metadata": {},
   "outputs": [],
   "source": [
    "def depth[A](t: Tree[A]): Int = \n",
    "    t match {\n",
    "        case Leaf(v) => 0\n",
    "        case Branch(left, right) => 1 + depth(left) max depth(right)\n",
    "    }\n",
    "\n",
    "assert(depth(tree) == 3)"
   ]
  },
  {
   "cell_type": "code",
   "execution_count": null,
   "metadata": {},
   "outputs": [],
   "source": [
    "def map[A,B](t: Tree[A])(f: A => B): Tree[B] = \n",
    "    t match {\n",
    "        case Leaf(v) => new Leaf(f(v))\n",
    "        case Branch(left, right) => new Branch(left = map(left)(f), right = map(right)(f))\n",
    "    }\n",
    "\n",
    "map(tree)(v => s\"Value is ${v}\")"
   ]
  },
  {
   "cell_type": "markdown",
   "metadata": {},
   "source": [
    "### Exercise 3.29\n",
    "Generalize the functions defined above by writing a new function `fold`."
   ]
  },
  {
   "cell_type": "code",
   "execution_count": null,
   "metadata": {},
   "outputs": [],
   "source": [
    "/**\n",
    " * @param t Tree\n",
    " * @param f Function applied to values in the leaves\n",
    " * @param combine Function applied to combine values from two leaves\n",
    " * @return Value from the fold\n",
    "**/\n",
    "def fold[A,B](t: Tree[A])(f: A => B)(combine: (B, B) => B): B = \n",
    "    t match {\n",
    "        case Leaf(v) => f(v)\n",
    "        case Branch(left, right) => combine(fold(left)(f)(combine), fold(right)(f)(combine))\n",
    "    }\n",
    "\n",
    "def size[A](t: Tree[A]): Int = \n",
    "    fold(t)((l) => 1)((left, right) => 1 + left + right)\n",
    "\n",
    "def maximum(t: Tree[Int]): Int =\n",
    "    fold(t)((l) => l)((left, right) => left max right)\n",
    "\n",
    "def depth[A](t: Tree[A]): Int = \n",
    "    fold(t)((l) => 0)((left, right) => 1 + left max right)\n",
    "\n",
    "// Map is a tad trickier: mapping function given to `fold` needs to return a tree so that the \n",
    "// types match\n",
    "def map[A, B](t: Tree[A])(f: A => B): Tree[B] = \n",
    "    fold(t)(v => new Leaf(f(v)): Tree[B])((left, right) => new Branch(left, right))\n",
    "\n",
    "assert(size(tree) == 9)\n",
    "assert(maximum(tree) == 5)\n",
    "assert(depth(tree) == 3)\n",
    "map(tree)(v => s\"Value is ${v}\")"
   ]
  }
 ],
 "metadata": {
  "language_info": {
   "name": "python",
   "pygments_lexer": "ipython3"
  }
 },
 "nbformat": 4,
 "nbformat_minor": 2
}
