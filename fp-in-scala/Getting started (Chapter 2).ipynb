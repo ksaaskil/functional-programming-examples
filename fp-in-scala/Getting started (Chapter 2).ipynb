{
 "cells": [
  {
   "cell_type": "markdown",
   "metadata": {},
   "source": [
    "### Recursive functions\n",
    "A recursive call is said to be in tail position if the caller only returns the value of the recursive call but does not do anything else with it. As an example, consider a simple function computing factorial."
   ]
  },
  {
   "cell_type": "code",
   "execution_count": null,
   "metadata": {},
   "outputs": [],
   "source": [
    "def factorial(n: Int): Int = {\n",
    "    n match {\n",
    "        case 0 => 1\n",
    "        case _ => n*factorial(n - 1) // This call is not in tail position\n",
    "    }\n",
    "}\n",
    "\n",
    "val testValue = 5\n",
    "print(s\"Factorial of ${testValue} is: ${factorial(testValue)}\")"
   ]
  },
  {
   "cell_type": "markdown",
   "metadata": {},
   "source": [
    "A better implementation is one where the recursive call is in tail position:"
   ]
  },
  {
   "cell_type": "code",
   "execution_count": null,
   "metadata": {},
   "outputs": [],
   "source": [
    "def factorial2(n: Int): Int = {\n",
    "    // `@annotation.tailrec` forces Scala to compile code that eliminates the current function call from stack \n",
    "    // when the recursive call is made (tail call optimization).\n",
    "    // Optimization is made automatically, but annotation ensures that compiler throws error for \n",
    "    // a head recursive function.\n",
    "    @annotation.tailrec \n",
    "    def go(n: Int, acc: Int): Int =\n",
    "        if (n<=0) acc\n",
    "        else go(n-1, n*acc) // This is in tail position!\n",
    "    go(n, 1)\n",
    "}\n",
    "\n",
    "print(s\"Factorial of ${testValue} is: ${factorial2(testValue)}\")"
   ]
  },
  {
   "cell_type": "markdown",
   "metadata": {},
   "source": [
    "### Exercise 2.1\n",
    "Write tail recursive implementation to compute `n`th Fibonacci number."
   ]
  },
  {
   "cell_type": "code",
   "execution_count": null,
   "metadata": {},
   "outputs": [],
   "source": [
    "// First write a naive implementation\n",
    "def fib(n: Int): Int = {\n",
    "    n match {\n",
    "        case 0 => 0\n",
    "        case 1 => 1\n",
    "        case _ => fib(n-1) + fib(n-2) // Not in tail position!\n",
    "    }\n",
    "}\n",
    "\n",
    "val firstTen = (0 until 10).map(fib)\n",
    "\n",
    "print(s\"First ten Fibonacci numbers are: ${firstTen mkString \", \"}\")\n"
   ]
  },
  {
   "cell_type": "code",
   "execution_count": null,
   "metadata": {},
   "outputs": [],
   "source": [
    "// Tail-recursive implementation that traverses the Fibonacci sequence starting from beginning\n",
    "def fib2(n: Int): Int = {\n",
    "    @annotation.tailrec\n",
    "    def proceedInFib(iter: Int, previousValue: Int, currentValue: Int): Int = {\n",
    "        if (iter <= 0) currentValue\n",
    "        else proceedInFib(iter-1, previousValue = currentValue, currentValue = previousValue + currentValue)\n",
    "    }\n",
    "    proceedInFib(iter = n, previousValue = 0, currentValue = 1)\n",
    "}\n",
    "\n",
    "print(s\"First ten Fibonacci numbers are: ${firstTen mkString \", \"}\")\n"
   ]
  },
  {
   "cell_type": "markdown",
   "metadata": {},
   "source": [
    "### Higher-order functions\n",
    "Example of a function that accepts a function as argument. The function is polymorphic in type as it is not restricted to a given type."
   ]
  },
  {
   "cell_type": "code",
   "execution_count": null,
   "metadata": {},
   "outputs": [],
   "source": [
    "def findFirst[A](as: Array[A], p: A => Boolean): Int = {\n",
    "    @annotation.tailrec\n",
    "    def loop(n: Int): Int = {\n",
    "        if (n >= as.length) -1\n",
    "        else if (p(as(n))) n \n",
    "        else loop(n+1)\n",
    "    }\n",
    "    loop(0)\n",
    "}\n",
    "findFirst(Array(2, 3, 3, 1, 1), (x: Int) => x == 1)"
   ]
  },
  {
   "cell_type": "markdown",
   "metadata": {},
   "source": [
    "### Exercise 2.2\n",
    "Implement `isSorted` checking if an array is sorted according to given comparison function."
   ]
  },
  {
   "cell_type": "code",
   "execution_count": null,
   "metadata": {},
   "outputs": [],
   "source": [
    "def isSorted[A](as: Array[A], o: (A, A) => Boolean): Boolean = {\n",
    "    @annotation.tailrec\n",
    "    def loop(n: Int): Boolean = {\n",
    "        if (n >= as.length - 1) true // Reached last value, all ok\n",
    "        else o(as(n), as(n+1)) && loop(n + 1)\n",
    "    }\n",
    "    loop(0)\n",
    "}\n",
    "\n",
    "val as = Array(2, 3, 4, 8, 0)x\n",
    "val o = (x: Int, y: Int) => x < y\n",
    "val as2 = as.slice(0, 4)\n",
    "println(s\"Array ${as mkString \",\"} is ${if (isSorted(as, o)) \"sorted\" else \"not sorted\"}\")\n",
    "println(s\"Array ${as2 mkString \",\"} is ${if (isSorted(as2, o)) \"sorted\" else \"not sorted\"}\")\n"
   ]
  },
  {
   "cell_type": "markdown",
   "metadata": {},
   "source": [
    "### Exercise 2.3 \n",
    "Implement `currying` function with signature\n",
    "```scala\n",
    "def curry[A,B,C](f: (A, B) => C): A => (B => C)\n",
    "```"
   ]
  },
  {
   "cell_type": "code",
   "execution_count": null,
   "metadata": {},
   "outputs": [],
   "source": [
    "def curry[A,B,C](f: (A, B) => C): A => (B => C) = {\n",
    "    (a: A) => (b: B) => f(a, b)\n",
    "}\n",
    "\n",
    "def introduce(name: String, age: Int): String = s\"My name is ${name} and age ${age}\"\n",
    "val curried = curry(introduce)\n",
    "val introduceMarkAtAge = curried(\"Mark\")\n",
    "\n",
    "println(s\"Now Mark introduces as: ${introduceMarkAtAge(15)}\")\n",
    "println(s\"Next year Mark introduces as: ${introduceMarkAtAge(16)}\")"
   ]
  },
  {
   "cell_type": "markdown",
   "metadata": {},
   "source": [
    "### Exercise 2.4\n",
    "Implement `uncurry` with signature\n",
    "```scala\n",
    "    def uncurry[A,B,C](f: A => B => C): (A, B) => C\n",
    "```"
   ]
  },
  {
   "cell_type": "code",
   "execution_count": null,
   "metadata": {},
   "outputs": [],
   "source": [
    "def uncurry[A,B,C](f: A => B => C): (A, B) => C = {\n",
    "    (a: A, b: B) => f(a)(b)\n",
    "}\n",
    "\n",
    "def uncurried = uncurry(curried) // `curried` defined above\n",
    "println(s\"Mark introduces as: ${uncurried(\"Mark\", 15)}\")"
   ]
  },
  {
   "cell_type": "markdown",
   "metadata": {},
   "source": [
    "### Exercise 2.5\n",
    "Implement `compose`:\n",
    "```scala\n",
    "   def compose[A,B,C](f: B => C, g: A => B): A => C\n",
    "```"
   ]
  },
  {
   "cell_type": "code",
   "execution_count": null,
   "metadata": {},
   "outputs": [],
   "source": [
    "def compose[A,B,C](f: B => C, g: A => B): A => C = {\n",
    "    (a: A) => f(g(a))\n",
    "}"
   ]
  }
 ],
 "metadata": {
  "language_info": {
   "name": "python",
   "pygments_lexer": "ipython3"
  }
 },
 "nbformat": 4,
 "nbformat_minor": 2
}
