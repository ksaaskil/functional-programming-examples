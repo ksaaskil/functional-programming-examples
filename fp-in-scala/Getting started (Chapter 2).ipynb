{
 "cells": [
  {
   "cell_type": "markdown",
   "metadata": {},
   "source": [
    "### Recursive functions\n",
    "A recursive call is said to be in tail position if the caller only returns the value of the recursive call but does not do anything else with it. As an example, consider a simple function computing factorial."
   ]
  },
  {
   "cell_type": "code",
   "execution_count": 1,
   "metadata": {},
   "outputs": [
    {
     "name": "stdout",
     "output_type": "stream",
     "text": [
      "Factorial of 5 is: 120"
     ]
    },
    {
     "data": {
      "text/plain": [
       "defined \u001b[32mfunction\u001b[39m \u001b[36mfactorial\u001b[39m\n",
       "\u001b[36mtestValue\u001b[39m: \u001b[32mInt\u001b[39m = \u001b[32m5\u001b[39m"
      ]
     },
     "execution_count": 1,
     "metadata": {},
     "output_type": "execute_result"
    }
   ],
   "source": [
    "def factorial(n: Int): Int = {\n",
    "    n match {\n",
    "        case 0 => 1\n",
    "        case _ => n*factorial(n - 1) // This call is not in tail position\n",
    "    }\n",
    "}\n",
    "\n",
    "val testValue = 5\n",
    "print(s\"Factorial of ${testValue} is: ${factorial(testValue)}\")"
   ]
  },
  {
   "cell_type": "markdown",
   "metadata": {},
   "source": [
    "A better implementation is one where the recursive call is in tail position:"
   ]
  },
  {
   "cell_type": "code",
   "execution_count": 2,
   "metadata": {},
   "outputs": [
    {
     "name": "stdout",
     "output_type": "stream",
     "text": [
      "Factorial of 5 is: 120"
     ]
    },
    {
     "data": {
      "text/plain": [
       "defined \u001b[32mfunction\u001b[39m \u001b[36mfactorial2\u001b[39m"
      ]
     },
     "execution_count": 2,
     "metadata": {},
     "output_type": "execute_result"
    }
   ],
   "source": [
    "def factorial2(n: Int): Int = {\n",
    "    // `@annotation.tailrec` forces Scala to compile code that eliminates the current function call from stack \n",
    "    // when the recursive call is made (tail call optimization).\n",
    "    // Optimization is made automatically, but annotation ensures that compiler throws error for \n",
    "    // a head recursive function.\n",
    "    @annotation.tailrec \n",
    "    def go(n: Int, acc: Int): Int =\n",
    "        if (n<=0) acc\n",
    "        else go(n-1, n*acc) // This is in tail position!\n",
    "    go(n, 1)\n",
    "}\n",
    "\n",
    "print(s\"Factorial of ${testValue} is: ${factorial2(testValue)}\")"
   ]
  },
  {
   "cell_type": "markdown",
   "metadata": {},
   "source": [
    "### Exercise 2.1\n",
    "Write tail recursive implementation to compute `n`th Fibonacci number."
   ]
  },
  {
   "cell_type": "code",
   "execution_count": 3,
   "metadata": {},
   "outputs": [
    {
     "name": "stdout",
     "output_type": "stream",
     "text": [
      "First ten Fibonacci numbers are: 0, 1, 1, 2, 3, 5, 8, 13, 21, 34"
     ]
    },
    {
     "data": {
      "text/plain": [
       "defined \u001b[32mfunction\u001b[39m \u001b[36mfib\u001b[39m\n",
       "\u001b[36mfirstTen\u001b[39m: \u001b[32mcollection\u001b[39m.\u001b[32mimmutable\u001b[39m.\u001b[32mIndexedSeq\u001b[39m[\u001b[32mInt\u001b[39m] = \u001b[33mVector\u001b[39m(\u001b[32m0\u001b[39m, \u001b[32m1\u001b[39m, \u001b[32m1\u001b[39m, \u001b[32m2\u001b[39m, \u001b[32m3\u001b[39m, \u001b[32m5\u001b[39m, \u001b[32m8\u001b[39m, \u001b[32m13\u001b[39m, \u001b[32m21\u001b[39m, \u001b[32m34\u001b[39m)"
      ]
     },
     "execution_count": 3,
     "metadata": {},
     "output_type": "execute_result"
    }
   ],
   "source": [
    "// First write a naive implementation\n",
    "def fib(n: Int): Int = {\n",
    "    n match {\n",
    "        case 0 => 0\n",
    "        case 1 => 1\n",
    "        case _ => fib(n-1) + fib(n-2) // Not in tail position!\n",
    "    }\n",
    "}\n",
    "\n",
    "val firstTen = (0 until 10).map(fib)\n",
    "\n",
    "print(s\"First ten Fibonacci numbers are: ${firstTen mkString \", \"}\")\n"
   ]
  },
  {
   "cell_type": "code",
   "execution_count": 4,
   "metadata": {},
   "outputs": [
    {
     "name": "stdout",
     "output_type": "stream",
     "text": [
      "First ten Fibonacci numbers are: 0, 1, 1, 2, 3, 5, 8, 13, 21, 34"
     ]
    },
    {
     "data": {
      "text/plain": [
       "defined \u001b[32mfunction\u001b[39m \u001b[36mfib2\u001b[39m"
      ]
     },
     "execution_count": 4,
     "metadata": {},
     "output_type": "execute_result"
    }
   ],
   "source": [
    "// Tail-recursive implementation that traverses the Fibonacci sequence starting from beginning\n",
    "def fib2(n: Int): Int = {\n",
    "    @annotation.tailrec\n",
    "    def proceedInFib(iter: Int, previousValue: Int, currentValue: Int): Int = {\n",
    "        if (iter <= 0) currentValue\n",
    "        else proceedInFib(iter-1, previousValue = currentValue, currentValue = previousValue + currentValue)\n",
    "    }\n",
    "    proceedInFib(iter = n, previousValue = 0, currentValue = 1)\n",
    "}\n",
    "\n",
    "print(s\"First ten Fibonacci numbers are: ${firstTen mkString \", \"}\")\n"
   ]
  },
  {
   "cell_type": "markdown",
   "metadata": {},
   "source": [
    "### Higher-order functions\n",
    "Example of a function that accepts a function as argument. The function is polymorphic in type as it is not restricted to a given type."
   ]
  },
  {
   "cell_type": "code",
   "execution_count": 5,
   "metadata": {},
   "outputs": [
    {
     "data": {
      "text/plain": [
       "defined \u001b[32mfunction\u001b[39m \u001b[36mfindFirst\u001b[39m\n",
       "\u001b[36mres4_1\u001b[39m: \u001b[32mInt\u001b[39m = \u001b[32m3\u001b[39m"
      ]
     },
     "execution_count": 5,
     "metadata": {},
     "output_type": "execute_result"
    }
   ],
   "source": [
    "def findFirst[A](as: Array[A], p: A => Boolean): Int = {\n",
    "    @annotation.tailrec\n",
    "    def loop(n: Int): Int = {\n",
    "        if (n >= as.length) -1\n",
    "        else if (p(as(n))) n \n",
    "        else loop(n+1)\n",
    "    }\n",
    "    loop(0)\n",
    "}\n",
    "findFirst(Array(2, 3, 3, 1, 1), (x: Int) => x == 1)"
   ]
  },
  {
   "cell_type": "markdown",
   "metadata": {},
   "source": [
    "### Exercise 2.2\n",
    "Implement `isSorted` checking if an array is sorted according to given comparison function."
   ]
  },
  {
   "cell_type": "code",
   "execution_count": 6,
   "metadata": {},
   "outputs": [
    {
     "name": "stdout",
     "output_type": "stream",
     "text": [
      "Array 2,3,4,8,0 is not sorted\n",
      "Array 2,3,4,8 is sorted\n"
     ]
    },
    {
     "data": {
      "text/plain": [
       "defined \u001b[32mfunction\u001b[39m \u001b[36misSorted\u001b[39m\n",
       "\u001b[36mas\u001b[39m: \u001b[32mArray\u001b[39m[\u001b[32mInt\u001b[39m] = \u001b[33mArray\u001b[39m(\u001b[32m2\u001b[39m, \u001b[32m3\u001b[39m, \u001b[32m4\u001b[39m, \u001b[32m8\u001b[39m, \u001b[32m0\u001b[39m)\n",
       "\u001b[36mo\u001b[39m: (\u001b[32mInt\u001b[39m, \u001b[32mInt\u001b[39m) => \u001b[32mBoolean\u001b[39m = <function2>\n",
       "\u001b[36mas2\u001b[39m: \u001b[32mArray\u001b[39m[\u001b[32mInt\u001b[39m] = \u001b[33mArray\u001b[39m(\u001b[32m2\u001b[39m, \u001b[32m3\u001b[39m, \u001b[32m4\u001b[39m, \u001b[32m8\u001b[39m)"
      ]
     },
     "execution_count": 6,
     "metadata": {},
     "output_type": "execute_result"
    }
   ],
   "source": [
    "def isSorted[A](as: Array[A], o: (A, A) => Boolean): Boolean = {\n",
    "    @annotation.tailrec\n",
    "    def loop(n: Int): Boolean = {\n",
    "        if (n >= as.length - 1) true // Reached last value, all ok\n",
    "        else o(as(n), as(n+1)) && loop(n + 1)\n",
    "    }\n",
    "    loop(0)\n",
    "}\n",
    "\n",
    "val as = Array(2, 3, 4, 8, 0)\n",
    "val o = (x: Int, y: Int) => x < y\n",
    "val as2 = as.slice(0, 4)\n",
    "println(s\"Array ${as mkString \",\"} is ${if (isSorted(as, o)) \"sorted\" else \"not sorted\"}\")\n",
    "println(s\"Array ${as2 mkString \",\"} is ${if (isSorted(as2, o)) \"sorted\" else \"not sorted\"}\")\n"
   ]
  },
  {
   "cell_type": "markdown",
   "metadata": {},
   "source": [
    "### Exercise 2.3 \n",
    "Implement `currying` function with signature\n",
    "```scala\n",
    "def curry[A,B,C](f: (A, B) => C): A => (B => C)\n",
    "```"
   ]
  },
  {
   "cell_type": "code",
   "execution_count": 7,
   "metadata": {},
   "outputs": [
    {
     "name": "stdout",
     "output_type": "stream",
     "text": [
      "Now Mark introduces as: My name is Mark and age 15\n",
      "Next year Mark introduces as: My name is Mark and age 16\n"
     ]
    },
    {
     "data": {
      "text/plain": [
       "defined \u001b[32mfunction\u001b[39m \u001b[36mcurry\u001b[39m\n",
       "defined \u001b[32mfunction\u001b[39m \u001b[36mintroduce\u001b[39m\n",
       "\u001b[36mcurried\u001b[39m: \u001b[32mString\u001b[39m => \u001b[32mInt\u001b[39m => \u001b[32mString\u001b[39m = <function1>\n",
       "\u001b[36mintroduceMarkAtAge\u001b[39m: \u001b[32mInt\u001b[39m => \u001b[32mString\u001b[39m = <function1>"
      ]
     },
     "execution_count": 7,
     "metadata": {},
     "output_type": "execute_result"
    }
   ],
   "source": [
    "def curry[A,B,C](f: (A, B) => C): A => (B => C) = {\n",
    "    (a: A) => (b: B) => f(a, b)\n",
    "}\n",
    "\n",
    "def introduce(name: String, age: Int): String = s\"My name is ${name} and age ${age}\"\n",
    "val curried = curry(introduce)\n",
    "val introduceMarkAtAge = curried(\"Mark\")\n",
    "\n",
    "println(s\"Now Mark introduces as: ${introduceMarkAtAge(15)}\")\n",
    "println(s\"Next year Mark introduces as: ${introduceMarkAtAge(16)}\")"
   ]
  },
  {
   "cell_type": "markdown",
   "metadata": {},
   "source": [
    "### Exercise 2.4\n",
    "Implement `uncurry` with signature\n",
    "```scala\n",
    "    def uncurry[A,B,C](f: A => B => C): (A, B) => C\n",
    "```"
   ]
  },
  {
   "cell_type": "code",
   "execution_count": 8,
   "metadata": {},
   "outputs": [
    {
     "name": "stdout",
     "output_type": "stream",
     "text": [
      "Mark introduces as: My name is Mark and age 15\n"
     ]
    },
    {
     "data": {
      "text/plain": [
       "defined \u001b[32mfunction\u001b[39m \u001b[36muncurry\u001b[39m\n",
       "defined \u001b[32mfunction\u001b[39m \u001b[36muncurried\u001b[39m"
      ]
     },
     "execution_count": 8,
     "metadata": {},
     "output_type": "execute_result"
    }
   ],
   "source": [
    "def uncurry[A,B,C](f: A => B => C): (A, B) => C = {\n",
    "    (a: A, b: B) => f(a)(b)\n",
    "}\n",
    "\n",
    "def uncurried = uncurry(curried) // `curried` defined above\n",
    "println(s\"Mark introduces as: ${uncurried(\"Mark\", 15)}\")"
   ]
  },
  {
   "cell_type": "markdown",
   "metadata": {},
   "source": [
    "### Exercise 2.5\n",
    "Implement `compose`:\n",
    "```scala\n",
    "   def compose[A,B,C](f: B => C, g: A => B): A => C\n",
    "```"
   ]
  },
  {
   "cell_type": "code",
   "execution_count": 9,
   "metadata": {},
   "outputs": [
    {
     "data": {
      "text/plain": [
       "defined \u001b[32mfunction\u001b[39m \u001b[36mcompose\u001b[39m"
      ]
     },
     "execution_count": 9,
     "metadata": {},
     "output_type": "execute_result"
    }
   ],
   "source": [
    "def compose[A,B,C](f: B => C, g: A => B): A => C = {\n",
    "    (a: A) => f(g(a))\n",
    "}"
   ]
  }
 ],
 "metadata": {
  "kernelspec": {
   "display_name": "Scala",
   "language": "scala",
   "name": "scala"
  },
  "language_info": {
   "codemirror_mode": "text/x-scala",
   "file_extension": ".scala",
   "mimetype": "text/x-scala",
   "name": "scala211",
   "nbconvert_exporter": "script",
   "pygments_lexer": "scala",
   "version": "2.11.8"
  }
 },
 "nbformat": 4,
 "nbformat_minor": 2
}
