{
 "cells": [
  {
   "cell_type": "markdown",
   "metadata": {},
   "source": [
    "# Strictness and laziness\n",
    "A function is called _non-strict_ if it may choose _not_ to evaluate one of its arguments. As an example, function `&&` takes two arguments but only evaluates the second argument if the first evaluates to `true`. This function could be called _strict in its first argument_ but _non-strict in the second_. Here's a non-strict `if2`:"
   ]
  },
  {
   "cell_type": "code",
   "execution_count": 33,
   "metadata": {},
   "outputs": [
    {
     "data": {
      "text/plain": [
       "defined \u001b[32mfunction\u001b[39m \u001b[36mif2\u001b[39m\n",
       "\u001b[36mres\u001b[39m: \u001b[32mString\u001b[39m = \u001b[32m\"Got false\"\u001b[39m"
      ]
     },
     "execution_count": 33,
     "metadata": {},
     "output_type": "execute_result"
    }
   ],
   "source": [
    "def if2[A](cond: Boolean, onTrue: () => A, onFalse: () => A) =\n",
    "    if (cond) onTrue() else onFalse()\n",
    "\n",
    "val res = if2(false, \n",
    "            () => throw new Exception(\"Got true\"), \n",
    "            () => \"Got false\")\n"
   ]
  },
  {
   "cell_type": "markdown",
   "metadata": {},
   "source": [
    "Formally, a function `f` is strict if the expression `f(x)` evalutes to bottom (does not terminate) for all `x` that evaluate to `bottom`. An expression evaluates to `bottom` if it throws an error or runs forever instead of returning a definite value. \n",
    "\n",
    "The unevaluated form of an expression is called a _thunk_. Callers of the `if2` function explicitly need to create thunks, i.e., functions is empty argument list. Scala offers prettier syntax:"
   ]
  },
  {
   "cell_type": "code",
   "execution_count": 34,
   "metadata": {},
   "outputs": [
    {
     "data": {
      "text/plain": [
       "defined \u001b[32mfunction\u001b[39m \u001b[36mif2\u001b[39m\n",
       "\u001b[36mres33_1\u001b[39m: \u001b[32mString\u001b[39m = \u001b[32m\"Got false\"\u001b[39m"
      ]
     },
     "execution_count": 34,
     "metadata": {},
     "output_type": "execute_result"
    }
   ],
   "source": [
    "def if2[A](cond: Boolean, onTrue: => A, onFalse: => A): A = if(cond) onTrue else onFalse\n",
    "\n",
    "if2(false, sys.error(\"Got exception\"), \"Got false\") // Does not require `() => \"Got false\"`!"
   ]
  },
  {
   "cell_type": "markdown",
   "metadata": {},
   "source": [
    "The thunk is re-evaluated by default every time it's referenced:"
   ]
  },
  {
   "cell_type": "code",
   "execution_count": 3,
   "metadata": {},
   "outputs": [
    {
     "name": "stdout",
     "output_type": "stream",
     "text": [
      "Evaluating\n",
      "Evaluating\n"
     ]
    },
    {
     "data": {
      "text/plain": [
       "defined \u001b[32mfunction\u001b[39m \u001b[36mmaybeTwice\u001b[39m\n",
       "\u001b[36mres2_1\u001b[39m: \u001b[32mInt\u001b[39m = \u001b[32m84\u001b[39m"
      ]
     },
     "execution_count": 3,
     "metadata": {},
     "output_type": "execute_result"
    }
   ],
   "source": [
    "def maybeTwice(b: Boolean, i: => Int): Int = if (b) i+i else 0\n",
    "\n",
    "maybeTwice(true, { println(\"Evaluating\"); 1+41 }) // Prints \"Evaluating\" twice!"
   ]
  },
  {
   "cell_type": "markdown",
   "metadata": {},
   "source": [
    "The result of the evaluation can be cached using the `lazy` keyword:"
   ]
  },
  {
   "cell_type": "code",
   "execution_count": 4,
   "metadata": {},
   "outputs": [
    {
     "name": "stdout",
     "output_type": "stream",
     "text": [
      "Evaluating\n"
     ]
    },
    {
     "data": {
      "text/plain": [
       "defined \u001b[32mfunction\u001b[39m \u001b[36mmaybeTwice2\u001b[39m\n",
       "\u001b[36mres3_1\u001b[39m: \u001b[32mInt\u001b[39m = \u001b[32m84\u001b[39m"
      ]
     },
     "execution_count": 4,
     "metadata": {},
     "output_type": "execute_result"
    }
   ],
   "source": [
    "def maybeTwice2(b: Boolean, i: => Int): Int = {\n",
    "    lazy val j = i // Caches the result, delays execution until `i` is first referenced\n",
    "    if (b) j+j else 0\n",
    "}\n",
    "maybeTwice2(true, { println(\"Evaluating\"); 1+41 }) // Prints \"Evaluating\" once!"
   ]
  },
  {
   "cell_type": "markdown",
   "metadata": {},
   "source": [
    "### Lazy lists i.e. streams"
   ]
  },
  {
   "cell_type": "code",
   "execution_count": 5,
   "metadata": {
    "scrolled": true
   },
   "outputs": [
    {
     "data": {
      "text/plain": [
       "defined \u001b[32mtrait\u001b[39m \u001b[36mStream\u001b[39m\n",
       "defined \u001b[32mobject\u001b[39m \u001b[36mEmpty\u001b[39m\n",
       "defined \u001b[32mclass\u001b[39m \u001b[36mCons\u001b[39m\n",
       "defined \u001b[32mobject\u001b[39m \u001b[36mStream\u001b[39m\n",
       "\u001b[36mtestStream\u001b[39m: () => \u001b[32mStream\u001b[39m[\u001b[32mInt\u001b[39m] = <function0>"
      ]
     },
     "execution_count": 5,
     "metadata": {},
     "output_type": "execute_result"
    }
   ],
   "source": [
    "sealed trait Stream[+A]\n",
    "case object Empty extends Stream[Nothing]\n",
    "case class Cons[+A](h: () => A, t: () => Stream[A]) extends Stream[A] // Constructor arguments cannot use `: =>` syntax\n",
    "\n",
    "object Stream {\n",
    "    // \"Smart\" constructor with nicer arguments and caching of evaluations\n",
    "    def cons[A](hd: => A, tl: => Stream[A]): Stream[A] = {\n",
    "        lazy val head = hd // Caches the result of evaluating `hd` so that it is only evaluated once\n",
    "        lazy val tail = tl\n",
    "        Cons(() => head, () => tail)\n",
    "    }\n",
    "\n",
    "    def empty[A]: Stream[A] = Empty // Helps type inference later on\n",
    "    \n",
    "    def apply[A](as: A*): Stream[A] = \n",
    "        if (as.isEmpty) Empty else cons(as.head, apply(as.tail: _*))\n",
    "}\n",
    "\n",
    "val testStream: () => Stream[Int] = () => Stream.cons(1, Stream.cons({ print(\"Evaluating second\"); 2 }, Stream.cons({ sys.error(\"fail\"); 3}, Stream.empty)))"
   ]
  },
  {
   "cell_type": "markdown",
   "metadata": {},
   "source": [
    "Definitions are similar as for `List` (Chapter 3) except that the constructor `Cons` takes explicit _thunks_ that do not need to be evaluted. Extracting values from the stream requires forcing the evaluation:"
   ]
  },
  {
   "cell_type": "code",
   "execution_count": 6,
   "metadata": {},
   "outputs": [
    {
     "name": "stdout",
     "output_type": "stream",
     "text": [
      "Evaluating...\n"
     ]
    },
    {
     "data": {
      "text/plain": [
       "defined \u001b[32mfunction\u001b[39m \u001b[36mheadOption\u001b[39m\n",
       "\u001b[36mstream\u001b[39m: \u001b[32mStream\u001b[39m[\u001b[32mInt\u001b[39m] = Cons(<function0>,<function0>)\n",
       "\u001b[36mres5_2\u001b[39m: \u001b[32mOption\u001b[39m[\u001b[32mInt\u001b[39m] = \u001b[33mSome\u001b[39m(\u001b[32m3\u001b[39m)\n",
       "\u001b[36mres5_3\u001b[39m: \u001b[32mOption\u001b[39m[\u001b[32mInt\u001b[39m] = \u001b[33mSome\u001b[39m(\u001b[32m3\u001b[39m)"
      ]
     },
     "execution_count": 6,
     "metadata": {},
     "output_type": "execute_result"
    }
   ],
   "source": [
    "def headOption[A](a: Stream[A]): Option[A] = \n",
    "    a match {\n",
    "        case Empty => None\n",
    "        case Cons(h, t) => Some(h()) // Forces evaluation\n",
    "    }\n",
    "\n",
    "// Using the smart constructor does not require explicit definition of thunks with `() => {}`\n",
    "val stream = Stream.cons({ println(\"Evaluating...\"); 3 }, Empty)\n",
    "\n",
    "headOption(stream)\n",
    "headOption(stream) // Does not print \"Evaluating\" as the value is cached in smart constructor"
   ]
  },
  {
   "cell_type": "markdown",
   "metadata": {},
   "source": [
    "### Exercise 5.1\n",
    "Write a function to convert a `Stream` to `List`."
   ]
  },
  {
   "cell_type": "code",
   "execution_count": 7,
   "metadata": {},
   "outputs": [
    {
     "data": {
      "text/plain": [
       "defined \u001b[32mfunction\u001b[39m \u001b[36mtoList\u001b[39m\n",
       "\u001b[36mres6_1\u001b[39m: \u001b[32mList\u001b[39m[\u001b[32mInt\u001b[39m] = \u001b[33mList\u001b[39m(\u001b[32m1\u001b[39m, \u001b[32m2\u001b[39m, \u001b[32m3\u001b[39m)"
      ]
     },
     "execution_count": 7,
     "metadata": {},
     "output_type": "execute_result"
    }
   ],
   "source": [
    "def toList[A](a: Stream[A]): List[A] = {\n",
    "    a match {\n",
    "        case Empty => List()\n",
    "        case Cons(h, t) => h() :: toList(t())\n",
    "    }\n",
    "}\n",
    "\n",
    "toList(Stream(1, 2, 3))"
   ]
  },
  {
   "cell_type": "markdown",
   "metadata": {},
   "source": [
    "### Exercise 5.2\n",
    "Write the function `take(n)` for returning the first `n` elements of a `Stream`, and `drop(n)` for skipping the first `n` elements of a `Stream`."
   ]
  },
  {
   "cell_type": "code",
   "execution_count": 8,
   "metadata": {},
   "outputs": [
    {
     "data": {
      "text/plain": [
       "defined \u001b[32mfunction\u001b[39m \u001b[36mtake\u001b[39m\n",
       "defined \u001b[32mfunction\u001b[39m \u001b[36mdrop\u001b[39m\n",
       "\u001b[36mstreamWithErrorAtHead\u001b[39m: \u001b[32mStream\u001b[39m[\u001b[32mInt\u001b[39m] = Cons(<function0>,<function0>)\n",
       "\u001b[36mstreamWithErrorAtTail\u001b[39m: \u001b[32mStream\u001b[39m[\u001b[32mInt\u001b[39m] = Cons(<function0>,<function0>)\n",
       "\u001b[36mres7_4\u001b[39m: \u001b[32mList\u001b[39m[\u001b[32mInt\u001b[39m] = \u001b[33mList\u001b[39m(\u001b[32m2\u001b[39m)\n",
       "\u001b[36mres7_5\u001b[39m: \u001b[32mList\u001b[39m[\u001b[32mInt\u001b[39m] = \u001b[33mList\u001b[39m(\u001b[32m2\u001b[39m)"
      ]
     },
     "execution_count": 8,
     "metadata": {},
     "output_type": "execute_result"
    }
   ],
   "source": [
    "def take[A](stream: Stream[A], n: Int): Stream[A] = {\n",
    "    if (n <= 0) {\n",
    "        Stream.empty\n",
    "    } else {\n",
    "        stream match {\n",
    "            // This neither evaluates the expression in `h` nor `t` as `Stream.cons` defines its argument with `h: => A`\n",
    "            // `Cons(h, t) => Cons(h, () => take(t(), n -1))` would also work\n",
    "            case Cons(h, t) => Stream.cons(h(), take(t(), n - 1))\n",
    "            case Empty => Stream.empty\n",
    "        }\n",
    "    }\n",
    "}\n",
    "\n",
    "def drop[A](stream: Stream[A], n: Int): Stream[A] = {\n",
    "    if (n <= 0) {\n",
    "        stream\n",
    "    } else {\n",
    "        stream match {\n",
    "            case Cons(h, t) => drop(t(), n-1)\n",
    "            case Empty => Stream.empty\n",
    "        }\n",
    "    }\n",
    "}\n",
    "\n",
    "val streamWithErrorAtHead = Stream.cons({ sys.error(\"fail\") }, Stream.cons(2, Empty))\n",
    "val streamWithErrorAtTail = Stream.cons(2, Stream.cons({ sys.error(\"fail\") }, Empty))\n",
    "\n",
    "toList(drop(streamWithErrorAtHead, 1)) // List(2)\n",
    "toList(take(streamWithErrorAtTail, 1)) // List(2)"
   ]
  },
  {
   "cell_type": "markdown",
   "metadata": {},
   "source": [
    "### Exercise 5.3\n",
    "Write the function `takeWhile`."
   ]
  },
  {
   "cell_type": "code",
   "execution_count": 9,
   "metadata": {},
   "outputs": [
    {
     "name": "stdout",
     "output_type": "stream",
     "text": [
      "Hi"
     ]
    },
    {
     "data": {
      "text/plain": [
       "defined \u001b[32mfunction\u001b[39m \u001b[36mtakeWhile\u001b[39m\n",
       "\u001b[36mstream\u001b[39m: \u001b[32mStream\u001b[39m[\u001b[32mInt\u001b[39m] = Cons(<function0>,<function0>)\n",
       "\u001b[36mshortStream\u001b[39m: \u001b[32mStream\u001b[39m[\u001b[32mInt\u001b[39m] = Cons(<function0>,<function0>)\n",
       "\u001b[36mevaluateStream\u001b[39m: \u001b[32mList\u001b[39m[\u001b[32mInt\u001b[39m] = \u001b[33mList\u001b[39m(\u001b[32m1\u001b[39m)"
      ]
     },
     "execution_count": 9,
     "metadata": {},
     "output_type": "execute_result"
    }
   ],
   "source": [
    "def takeWhile[A](stream: Stream[A], p: A => Boolean): Stream[A] = {\n",
    "    stream match {\n",
    "        case Cons(h, t) => if (p(h())) Stream.cons(h(), takeWhile(t(), p)) else Empty\n",
    "        case Empty => Empty\n",
    "    }\n",
    "}\n",
    "\n",
    "val stream = Stream.cons(1, Stream.cons({ print(\"Hi\"); 2 }, Stream.cons({ sys.error(\"fail\"); 3}, Stream.empty)))\n",
    "val shortStream = takeWhile(stream, (n: Int) => n < 2) // Does not print anything\n",
    "val evaluateStream = toList(shortStream) // Prints \"Hi\""
   ]
  },
  {
   "cell_type": "markdown",
   "metadata": {},
   "source": [
    "Streams allow separating the concern of describing an expression from actually evaluating it. For example, _early termination_  is a breeze with streams:"
   ]
  },
  {
   "cell_type": "code",
   "execution_count": 10,
   "metadata": {},
   "outputs": [
    {
     "name": "stdout",
     "output_type": "stream",
     "text": [
      "Evaluating second"
     ]
    },
    {
     "data": {
      "text/plain": [
       "defined \u001b[32mfunction\u001b[39m \u001b[36mexists\u001b[39m\n",
       "\u001b[36mres9_1\u001b[39m: \u001b[32mBoolean\u001b[39m = \u001b[32mtrue\u001b[39m"
      ]
     },
     "execution_count": 10,
     "metadata": {},
     "output_type": "execute_result"
    }
   ],
   "source": [
    "def exists[A](stream: Stream[A], p: A => Boolean): Boolean = \n",
    "    stream match {\n",
    "        case Cons(h, t) => p(h()) || exists(t(), p) // Does not touch the tail stream if finds match\n",
    "        case Empty => false\n",
    "    }\n",
    "\n",
    "exists(testStream(), (a: Int) => a == 2)"
   ]
  },
  {
   "cell_type": "code",
   "execution_count": 11,
   "metadata": {},
   "outputs": [
    {
     "data": {
      "text/plain": [
       "defined \u001b[32mfunction\u001b[39m \u001b[36mfoldRight\u001b[39m\n",
       "\u001b[36mres10_1\u001b[39m: \u001b[32mInt\u001b[39m = \u001b[32m6\u001b[39m"
      ]
     },
     "execution_count": 11,
     "metadata": {},
     "output_type": "execute_result"
    }
   ],
   "source": [
    "def foldRight[A,B](stream: Stream[A], z: => B)(f: (A, => B) => B): B = \n",
    "    stream match {\n",
    "        case Cons(h, t) => f(h(), foldRight(t(), z)(f))\n",
    "        case Empty => z\n",
    "    }\n",
    "\n",
    "foldRight(Stream(1, 2, 3), 0)(_ + _)"
   ]
  },
  {
   "cell_type": "code",
   "execution_count": 12,
   "metadata": {},
   "outputs": [
    {
     "name": "stdout",
     "output_type": "stream",
     "text": [
      "Evaluating second"
     ]
    },
    {
     "data": {
      "text/plain": [
       "defined \u001b[32mfunction\u001b[39m \u001b[36mexists\u001b[39m\n",
       "\u001b[36mstream\u001b[39m: \u001b[32mStream\u001b[39m[\u001b[32mInt\u001b[39m] = Cons(<function0>,<function0>)\n",
       "\u001b[36mres11_2\u001b[39m: \u001b[32mBoolean\u001b[39m = \u001b[32mtrue\u001b[39m"
      ]
     },
     "execution_count": 12,
     "metadata": {},
     "output_type": "execute_result"
    }
   ],
   "source": [
    "def exists[A](stream: Stream[A], p: A => Boolean): Boolean = \n",
    "    foldRight(stream, false)((a, b) => p(a) || b)\n",
    "\n",
    "val stream = Stream.cons(1, Stream.cons({ print(\"Evaluating second\"); 2 }, Stream.cons({ sys.error(\"fail\"); 3}, Stream.empty)))\n",
    "exists(stream, (a: Int) => a == 2)"
   ]
  },
  {
   "cell_type": "markdown",
   "metadata": {},
   "source": [
    "### Exercise 5.4\n",
    "Implement `forAll` that should terminate as soon as it encounters a nonmatching value."
   ]
  },
  {
   "cell_type": "code",
   "execution_count": 13,
   "metadata": {},
   "outputs": [
    {
     "name": "stdout",
     "output_type": "stream",
     "text": [
      "Evaluating second"
     ]
    },
    {
     "data": {
      "text/plain": [
       "defined \u001b[32mfunction\u001b[39m \u001b[36mforAll\u001b[39m\n",
       "\u001b[36mres12_1\u001b[39m: \u001b[32mBoolean\u001b[39m = \u001b[32mfalse\u001b[39m"
      ]
     },
     "execution_count": 13,
     "metadata": {},
     "output_type": "execute_result"
    }
   ],
   "source": [
    "def forAll[A](stream: Stream[A])(p: A => Boolean): Boolean = \n",
    "    foldRight(stream, true)((a, b) => p(a) && b)\n",
    "\n",
    "forAll(testStream())(a => a < 2)"
   ]
  },
  {
   "cell_type": "markdown",
   "metadata": {},
   "source": [
    "### Exercise 5.5\n",
    "Use `foldRight` to implement `takeWhile`."
   ]
  },
  {
   "cell_type": "code",
   "execution_count": 14,
   "metadata": {},
   "outputs": [
    {
     "name": "stdout",
     "output_type": "stream",
     "text": [
      "Evaluating second"
     ]
    },
    {
     "data": {
      "text/plain": [
       "defined \u001b[32mfunction\u001b[39m \u001b[36mtakeWhile\u001b[39m\n",
       "\u001b[36mres13_1\u001b[39m: \u001b[32mList\u001b[39m[\u001b[32mInt\u001b[39m] = \u001b[33mList\u001b[39m(\u001b[32m1\u001b[39m)"
      ]
     },
     "execution_count": 14,
     "metadata": {},
     "output_type": "execute_result"
    }
   ],
   "source": [
    "def takeWhile[A](stream: Stream[A])(p: A => Boolean): Stream[A] =\n",
    "    foldRight(stream, Stream.empty: Stream[A])((a, b) => if (p(a)) Stream.cons(a, b) else Stream.empty)\n",
    "\n",
    "toList(takeWhile(testStream())(a => a < 2))"
   ]
  },
  {
   "cell_type": "markdown",
   "metadata": {},
   "source": [
    "### Exercise 5.7\n",
    "Implement `map`, `filter`, `append`, and `flatMap` using `foldRight`."
   ]
  },
  {
   "cell_type": "markdown",
   "metadata": {},
   "source": [
    "To make things cleaner, let's re-define `Stream` and define the requested functions directly in the `Stream` trait. Note that this may mess things up in the Jupyter notebook if cells are executed in the \"wrong\" order."
   ]
  },
  {
   "cell_type": "code",
   "execution_count": 16,
   "metadata": {
    "scrolled": true
   },
   "outputs": [
    {
     "data": {
      "text/plain": [
       "defined \u001b[32mtrait\u001b[39m \u001b[36mStream\u001b[39m\n",
       "defined \u001b[32mobject\u001b[39m \u001b[36mEmpty\u001b[39m\n",
       "defined \u001b[32mclass\u001b[39m \u001b[36mCons\u001b[39m\n",
       "defined \u001b[32mobject\u001b[39m \u001b[36mStream\u001b[39m\n",
       "\u001b[36mtestStream\u001b[39m: () => \u001b[32mwrapper\u001b[39m.\u001b[32mwrapper\u001b[39m.\u001b[32mStream\u001b[39m[\u001b[32mInt\u001b[39m] = <function0>"
      ]
     },
     "execution_count": 16,
     "metadata": {},
     "output_type": "execute_result"
    }
   ],
   "source": [
    "sealed trait Stream[+A] {\n",
    "    def foldRight[B](z: => B)(f: (A, => B) => B): B = \n",
    "        this match {\n",
    "            case Cons(h, t) => f(h(), t().foldRight(z)(f))\n",
    "            case Empty => z\n",
    "        }\n",
    "    \n",
    "    def toList(): List[A] = {\n",
    "        this.foldRight(List(): List[A])((a, b) => a :: b)\n",
    "    }\n",
    "\n",
    "    def exists(p: A => Boolean): Boolean =\n",
    "        this.foldRight(false)((a, b) => p(a) || b)\n",
    "    \n",
    "    def map[B](f: A => B): Stream[B] =\n",
    "        this.foldRight(Stream.empty: Stream[B])((a, b) => Stream.cons(f(a), b))\n",
    "    \n",
    "    def filter(p: A => Boolean): Stream[A] = \n",
    "        this.foldRight(Stream.empty: Stream[A])((a, b) => if (p(a)) Stream.cons(a, b) else b)\n",
    "    \n",
    "    // Cannot define `append(a: => A): Stream[A]` as `A` is a covariant type. It does not compile as it could cause \n",
    "    // funny situations, see \n",
    "    // https://stackoverflow.com/questions/43180310/covariant-type-a-occurs-in-contravariant-position-in-type-a-of-value-a\n",
    "    def append[B >: A](b: => B): Stream[B] = \n",
    "        this.foldRight(Stream.cons(b, Stream.empty))((a, z) => Stream.cons(a, z))\n",
    "    \n",
    "    def flatMap[B](f: A => Stream[B]): Stream[B] =\n",
    "        this.foldRight(Stream.empty: Stream[B])((a, z) => Stream.concatenate(f(a), z))\n",
    "\n",
    "}\n",
    "case object Empty extends Stream[Nothing]\n",
    "case class Cons[+A](h: () => A, t: () => Stream[A]) extends Stream[A] // Constructor arguments cannot use `: =>` syntax\n",
    "\n",
    "object Stream {\n",
    "    // \"Smart\" constructor with nicer arguments and caching of evaluations\n",
    "    def cons[A](hd: => A, tl: => Stream[A]): Stream[A] = {\n",
    "        lazy val head = hd // Caches the result of evaluating `hd` so that it is only evaluated once\n",
    "        lazy val tail = tl\n",
    "        Cons(() => head, () => tail)\n",
    "    }\n",
    "\n",
    "    def empty[A]: Stream[A] = Empty // Helps type inference later on\n",
    "    \n",
    "    def apply[A](as: A*): Stream[A] = \n",
    "        if (as.isEmpty) Empty else cons(as.head, apply(as.tail: _*))\n",
    "    \n",
    "    def concatenate[A](a: Stream[A], b: Stream[A]): Stream[A] =\n",
    "        a.foldRight(b)((a, z) => Stream.cons(a, z))\n",
    "}\n",
    "\n",
    "val testStream: () => Stream[Int] = () => Stream.cons(1, Stream.cons({ print(\"Evaluating second\"); 2 }, Stream.cons({ sys.error(\"fail\"); 3}, Stream.empty)))"
   ]
  },
  {
   "cell_type": "code",
   "execution_count": 21,
   "metadata": {},
   "outputs": [
    {
     "name": "stdout",
     "output_type": "stream",
     "text": [
      "Evaluating appended expression!\n"
     ]
    },
    {
     "data": {
      "text/plain": [
       "\u001b[36mres20_0\u001b[39m: \u001b[32mList\u001b[39m[\u001b[32mInt\u001b[39m] = \u001b[33mList\u001b[39m(\u001b[32m2\u001b[39m, \u001b[32m4\u001b[39m, \u001b[32m6\u001b[39m)\n",
       "\u001b[36mres20_1\u001b[39m: \u001b[32mList\u001b[39m[\u001b[32mInt\u001b[39m] = \u001b[33mList\u001b[39m(\u001b[32m2\u001b[39m, \u001b[32m4\u001b[39m)\n",
       "\u001b[36mres20_2\u001b[39m: \u001b[32mList\u001b[39m[\u001b[32mInt\u001b[39m] = \u001b[33mList\u001b[39m(\u001b[32m1\u001b[39m, \u001b[32m2\u001b[39m, \u001b[32m3\u001b[39m, \u001b[32m4\u001b[39m, \u001b[32m5\u001b[39m)\n",
       "\u001b[36mres20_3\u001b[39m: \u001b[32mList\u001b[39m[\u001b[32mInt\u001b[39m] = \u001b[33mList\u001b[39m(\u001b[32m1\u001b[39m, \u001b[32m2\u001b[39m, \u001b[32m3\u001b[39m, \u001b[32m4\u001b[39m, \u001b[32m5\u001b[39m, \u001b[32m6\u001b[39m)\n",
       "\u001b[36mres20_4\u001b[39m: \u001b[32mList\u001b[39m[\u001b[32mInt\u001b[39m] = \u001b[33mList\u001b[39m(\u001b[32m1\u001b[39m, \u001b[32m1\u001b[39m, \u001b[32m2\u001b[39m, \u001b[32m2\u001b[39m, \u001b[32m3\u001b[39m, \u001b[32m3\u001b[39m, \u001b[32m4\u001b[39m, \u001b[32m4\u001b[39m)"
      ]
     },
     "execution_count": 21,
     "metadata": {},
     "output_type": "execute_result"
    }
   ],
   "source": [
    "Stream(1, 2, 3).map(_ * 2).toList()\n",
    "\n",
    "Stream(1, 2, 3, 4).filter(_ % 2 == 0).toList()\n",
    "\n",
    "Stream(1, 2, 3, 4).append({ println(\"Evaluating appended expression!\"); 5 }).toList()\n",
    "\n",
    "Stream.concatenate(Stream(1, 2, 3), Stream(4, 5, 6)).toList()\n",
    "\n",
    "Stream(1, 2, 3, 4).flatMap(a => Stream(a, a)).toList()"
   ]
  },
  {
   "cell_type": "markdown",
   "metadata": {},
   "source": [
    "Streams allow chaining operations without traversing the values multiple times. First consider an example with a list that requires traversing the list twice:"
   ]
  },
  {
   "cell_type": "code",
   "execution_count": 31,
   "metadata": {},
   "outputs": [
    {
     "name": "stdout",
     "output_type": "stream",
     "text": [
      "Adding ten to 1\n",
      "Adding ten to 2\n",
      "Adding ten to 3\n",
      "Adding ten to 4\n",
      "Checking if 11 is divisible by two\n",
      "Checking if 12 is divisible by two\n",
      "Checking if 13 is divisible by two\n",
      "Checking if 14 is divisible by two\n"
     ]
    },
    {
     "data": {
      "text/plain": [
       "\u001b[36maddTen\u001b[39m: \u001b[32mInt\u001b[39m => \u001b[32mInt\u001b[39m = <function1>\n",
       "\u001b[36misEven\u001b[39m: \u001b[32mInt\u001b[39m => \u001b[32mBoolean\u001b[39m = <function1>\n",
       "\u001b[36mres30_2\u001b[39m: \u001b[32mList\u001b[39m[\u001b[32mInt\u001b[39m] = \u001b[33mList\u001b[39m(\u001b[32m12\u001b[39m, \u001b[32m14\u001b[39m)"
      ]
     },
     "execution_count": 31,
     "metadata": {},
     "output_type": "execute_result"
    }
   ],
   "source": [
    "val addTen: Int => Int = a => {\n",
    "    println(s\"Adding ten to ${a}\")\n",
    "    a + 10\n",
    "}\n",
    "\n",
    "val isEven: Int => Boolean = a => {\n",
    "    println(s\"Checking if ${a} is divisible by two\")\n",
    "    a % 2 == 0\n",
    "}\n",
    "\n",
    "List(1, 2, 3, 4).map(addTen).filter(isEven)"
   ]
  },
  {
   "cell_type": "markdown",
   "metadata": {},
   "source": [
    "Now see how the order changes with `Stream` as the list is traversed only once:"
   ]
  },
  {
   "cell_type": "code",
   "execution_count": 32,
   "metadata": {},
   "outputs": [
    {
     "name": "stdout",
     "output_type": "stream",
     "text": [
      "Adding ten to 1\n",
      "Checking if 11 is divisible by two\n",
      "Adding ten to 2\n",
      "Checking if 12 is divisible by two\n",
      "Adding ten to 3\n",
      "Checking if 13 is divisible by two\n",
      "Adding ten to 4\n",
      "Checking if 14 is divisible by two\n"
     ]
    },
    {
     "data": {
      "text/plain": [
       "\u001b[36mres31\u001b[39m: \u001b[32mList\u001b[39m[\u001b[32mInt\u001b[39m] = \u001b[33mList\u001b[39m(\u001b[32m12\u001b[39m, \u001b[32m14\u001b[39m)"
      ]
     },
     "execution_count": 32,
     "metadata": {},
     "output_type": "execute_result"
    }
   ],
   "source": [
    "Stream(1, 2, 3, 4).map(addTen).filter(isEven).toList()"
   ]
  }
 ],
 "metadata": {
  "kernelspec": {
   "display_name": "Scala",
   "language": "scala",
   "name": "scala"
  },
  "language_info": {
   "codemirror_mode": "text/x-scala",
   "file_extension": ".scala",
   "mimetype": "text/x-scala",
   "name": "scala211",
   "nbconvert_exporter": "script",
   "pygments_lexer": "scala",
   "version": "2.11.8"
  }
 },
 "nbformat": 4,
 "nbformat_minor": 2
}
