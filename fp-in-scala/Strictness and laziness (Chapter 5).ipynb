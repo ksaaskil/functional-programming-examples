{
 "cells": [
  {
   "cell_type": "markdown",
   "metadata": {},
   "source": [
    "# Strictness and laziness\n",
    "A function is called _non-strict_ if it may choose _not_ to evaluate one of its arguments. As an example, function `&&` takes two arguments but only evaluates the second argument if the first evaluates to `true`. This function could be called _strict in its first argument_ but _non-strict in the second_. Here's a non-strict `if2`:"
   ]
  },
  {
   "cell_type": "code",
   "execution_count": null,
   "metadata": {},
   "outputs": [],
   "source": [
    "def if2[A](cond: Boolean, onTrue: => () => A, onFalse: () => A) =\n",
    "    if (cond) onTrue() else onFalse()\n",
    "\n",
    "val res = if2(false, \n",
    "            () => throw new Exception(\"Got true\"), \n",
    "            () => \"Got false\")\n"
   ]
  },
  {
   "cell_type": "markdown",
   "metadata": {},
   "source": [
    "Formally, a function `f` is strict if the expression `f(x)` evalutes to bottom (does not terminate) for all `x` that evaluate to `bottom`. An expression evaluates to `bottom` if it throws an error or runs forever instead of returning a definite value. \n",
    "\n",
    "The unevaluated form of an expression is called a _thunk_. Callers of the `if2` function explicitly need to create thunks, i.e., functions is empty argument list. Scala offers prettier syntax:"
   ]
  },
  {
   "cell_type": "code",
   "execution_count": null,
   "metadata": {},
   "outputs": [],
   "source": [
    "def if2[A](cond: Boolean, onTrue: => A, onFalse: => A): A = if(cond) onTrue else onFalse\n",
    "\n",
    "if2(false, sys.error(\"Got exception\"), \"Got false\") // Does not require `() => \"Got false\"`!"
   ]
  },
  {
   "cell_type": "markdown",
   "metadata": {},
   "source": [
    "The thunk is re-evaluated by default every time it's referenced:"
   ]
  },
  {
   "cell_type": "code",
   "execution_count": null,
   "metadata": {},
   "outputs": [],
   "source": [
    "def maybeTwice(b: Boolean, i: => Int): Int = if (b) i+i else 0\n",
    "\n",
    "maybeTwice(true, { println(\"Evaluating\"); 1+41 }) // Prints \"Evaluating\" twice!"
   ]
  },
  {
   "cell_type": "markdown",
   "metadata": {},
   "source": [
    "The result of the evaluation can be cached using the `lazy` keyword:"
   ]
  },
  {
   "cell_type": "code",
   "execution_count": null,
   "metadata": {},
   "outputs": [],
   "source": [
    "def maybeTwice2(b: Boolean, i: => Int): Int = {\n",
    "    lazy val j = i // Caches the result, delays execution until `i` is first referenced\n",
    "    if (b) j+j else 0\n",
    "}\n",
    "maybeTwice2(true, { println(\"Evaluating\"); 1+41 }) // Prints \"Evaluating\" once!"
   ]
  },
  {
   "cell_type": "markdown",
   "metadata": {},
   "source": [
    "### Lazy lists i.e. streams"
   ]
  },
  {
   "cell_type": "code",
   "execution_count": null,
   "metadata": {},
   "outputs": [],
   "source": [
    "sealed trait Stream[+A]\n",
    "case object Empty extends Stream[Nothing]\n",
    "case class Cons[+A](h: () => A, t: () => Stream[A]) extends Stream[A] // Constructor arguments cannot use `: =>` syntax\n",
    "\n",
    "object Stream {\n",
    "    // \"Smart\" constructor with nicer arguments and caching of evaluations\n",
    "    def cons[A](hd: => A, tl: => Stream[A]): Stream[A] = {\n",
    "        lazy val head = hd // Caches the result of evaluating `hd` so that it is only evaluated once\n",
    "        lazy val tail = tl\n",
    "        Cons(() => head, () => tail)\n",
    "    }\n",
    "\n",
    "    def empty[A]: Stream[A] = Empty // Helps type inference later on\n",
    "    \n",
    "    def apply[A](as: A*): Stream[A] = \n",
    "        if (as.isEmpty) Empty else cons(as.head, apply(as.tail: _*))\n",
    "}\n",
    "\n",
    "val testStream: () => Stream[Int] = () => Stream.cons(1, Stream.cons({ print(\"Evaluating second\"); 2 }, Stream.cons({ sys.error(\"fail\"); 3}, Stream.empty)))"
   ]
  },
  {
   "cell_type": "markdown",
   "metadata": {},
   "source": [
    "Definitions are similar as for `List` (Chapter 3) except that the constructor `Cons` takes explicit _thunks_ that do not need to be evaluted. Extracting values from the stream requires forcing the evaluation:"
   ]
  },
  {
   "cell_type": "code",
   "execution_count": null,
   "metadata": {},
   "outputs": [],
   "source": [
    "def headOption[A](a: Stream[A]): Option[A] = \n",
    "    a match {\n",
    "        case Empty => None\n",
    "        case Cons(h, t) => Some(h()) // Forces evaluation\n",
    "    }\n",
    "\n",
    "// Using the smart constructor does not require explicit definition of thunks with `() => {}`\n",
    "val stream = Stream.cons({ println(\"Evaluating...\"); 3 }, Empty)\n",
    "\n",
    "headOption(stream)\n",
    "headOption(stream) // Does not print \"Evaluating\" as the value is cached in smart constructor"
   ]
  },
  {
   "cell_type": "markdown",
   "metadata": {},
   "source": [
    "### Exercise 5.1\n",
    "Write a function to convert a `Stream` to `List`."
   ]
  },
  {
   "cell_type": "code",
   "execution_count": null,
   "metadata": {},
   "outputs": [],
   "source": [
    "def toList[A](a: Stream[A]): List[A] = {\n",
    "    a match {\n",
    "        case Empty => List()\n",
    "        case Cons(h, t) => h() :: toList(t())\n",
    "    }\n",
    "}\n",
    "\n",
    "toList(Stream(1, 2, 3))"
   ]
  },
  {
   "cell_type": "markdown",
   "metadata": {},
   "source": [
    "### Exercise 5.2\n",
    "Write the function `take(n)` for returning the first `n` elements of a `Stream`, and `drop(n)` for skipping the first `n` elements of a `Stream`."
   ]
  },
  {
   "cell_type": "code",
   "execution_count": null,
   "metadata": {},
   "outputs": [],
   "source": [
    "def take[A](stream: Stream[A], n: Int): Stream[A] = {\n",
    "    if (n <= 0) {\n",
    "        Stream.empty\n",
    "    } else {\n",
    "        stream match {\n",
    "            // This neither evaluates the expression in `h` nor `t` as `Stream.cons` defines its argument with `h: => A`\n",
    "            // `Cons(h, t) => Cons(h, () => take(t(), n -1))` would also work\n",
    "            case Cons(h, t) => Stream.cons(h(), take(t(), n - 1))\n",
    "            case Empty => Stream.empty\n",
    "        }\n",
    "    }\n",
    "}\n",
    "\n",
    "def drop[A](stream: Stream[A], n: Int): Stream[A] = {\n",
    "    if (n <= 0) {\n",
    "        stream\n",
    "    } else {\n",
    "        stream match {\n",
    "            case Cons(h, t) => drop(t(), n-1)\n",
    "            case Empty => Stream.empty\n",
    "        }\n",
    "    }\n",
    "}\n",
    "\n",
    "val streamWithErrorAtHead = Stream.cons({ sys.error(\"fail\") }, Stream.cons(2, Empty))\n",
    "val streamWithErrorAtTail = Stream.cons(2, Stream.cons({ sys.error(\"fail\") }, Empty))\n",
    "\n",
    "toList(drop(streamWithErrorAtHead, 1)) // List(2)\n",
    "toList(take(streamWithErrorAtTail, 1)) // List(2)"
   ]
  },
  {
   "cell_type": "markdown",
   "metadata": {},
   "source": [
    "### Exercise 5.3\n",
    "Write the function `takeWhile`."
   ]
  },
  {
   "cell_type": "code",
   "execution_count": null,
   "metadata": {},
   "outputs": [],
   "source": [
    "def takeWhile[A](stream: Stream[A], p: A => Boolean): Stream[A] = {\n",
    "    stream match {\n",
    "        case Cons(h, t) => if (p(h())) Stream.cons(h(), takeWhile(t(), p)) else Empty\n",
    "        case Empty => Empty\n",
    "    }\n",
    "}\n",
    "\n",
    "val stream = Stream.cons(1, Stream.cons({ print(\"Hi\"); 2 }, Stream.cons({ sys.error(\"fail\"); 3}, Stream.empty)))\n",
    "val shortStream = takeWhile(stream, (n: Int) => n < 2) // Does not print anything\n",
    "val evaluateStream = toList(shortStream) // Prints \"Hi\""
   ]
  },
  {
   "cell_type": "markdown",
   "metadata": {},
   "source": [
    "Streams allow separating the concern of describing an expression from actually evaluating it. For example, _early termination_  is a breeze with streams:"
   ]
  },
  {
   "cell_type": "code",
   "execution_count": null,
   "metadata": {},
   "outputs": [],
   "source": [
    "def exists[A](stream: Stream[A], p: A => Boolean): Boolean = \n",
    "    stream match {\n",
    "        case Cons(h, t) => p(h()) || exists(t(), p) // Does not touch the tail stream if finds match\n",
    "        case Empty => false\n",
    "    }\n",
    "\n",
    "exists(testStream(), (a: Int) => a == 2)"
   ]
  },
  {
   "cell_type": "code",
   "execution_count": null,
   "metadata": {},
   "outputs": [],
   "source": [
    "def foldRight[A,B](stream: Stream[A], z: => B)(f: (A, => B) => B): B = \n",
    "    stream match {\n",
    "        case Cons(h, t) => f(h(), foldRight(t(), z)(f))\n",
    "        case Empty => z\n",
    "    }\n",
    "\n",
    "foldRight(Stream(1, 2, 3), 0)(_ + _)"
   ]
  },
  {
   "cell_type": "code",
   "execution_count": null,
   "metadata": {},
   "outputs": [],
   "source": [
    "def exists[A](stream: Stream[A], p: A => Boolean): Boolean = \n",
    "    foldRight(stream, false)((a, b) => p(a) || b)\n",
    "\n",
    "val stream = Stream.cons(1, Stream.cons({ print(\"Evaluating second\"); 2 }, Stream.cons({ sys.error(\"fail\"); 3}, Stream.empty)))\n",
    "exists(stream, (a: Int) => a == 2)"
   ]
  },
  {
   "cell_type": "markdown",
   "metadata": {},
   "source": [
    "### Exercise 5.4\n",
    "Implement `forAll` that should terminate as soon as it encounters a nonmatching value."
   ]
  },
  {
   "cell_type": "code",
   "execution_count": null,
   "metadata": {},
   "outputs": [],
   "source": [
    "def forAll[A](stream: Stream[A])(p: A => Boolean): Boolean = \n",
    "    foldRight(stream, true)((a, b) => p(a) && b)\n",
    "\n",
    "forAll(testStream())(a => a < 2)"
   ]
  },
  {
   "cell_type": "markdown",
   "metadata": {},
   "source": [
    "### Exercise 5.5\n",
    "Use `foldRight` to implement `takeWhile`."
   ]
  },
  {
   "cell_type": "code",
   "execution_count": null,
   "metadata": {},
   "outputs": [],
   "source": [
    "def takeWhile[A](stream: Stream[A])(p: A => Boolean): Stream[A] =\n",
    "    foldRight(stream, Stream.empty: Stream[A])((a, b) => if (p(a)) Stream.cons(a, b) else Stream.empty)\n",
    "\n",
    "toList(takeWhile(testStream())(a => a < 2))"
   ]
  },
  {
   "cell_type": "markdown",
   "metadata": {},
   "source": [
    "### Exercise 5.7\n",
    "Implement `map`, `filter`, `append`, and `flatMap` using `foldRight`."
   ]
  },
  {
   "cell_type": "code",
   "execution_count": null,
   "metadata": {},
   "outputs": [],
   "source": []
  }
 ],
 "metadata": {
  "language_info": {
   "name": "python",
   "pygments_lexer": "ipython3"
  }
 },
 "nbformat": 4,
 "nbformat_minor": 2
}
